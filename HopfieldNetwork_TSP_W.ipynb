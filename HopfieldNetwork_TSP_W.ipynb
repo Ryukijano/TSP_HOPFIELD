{
  "nbformat": 4,
  "nbformat_minor": 0,
  "metadata": {
    "colab": {
      "name": "HopfieldNetwork_TSP_W.ipynb",
      "provenance": [],
      "authorship_tag": "ABX9TyMPZMex4X3TujQS7svxsavE",
      "include_colab_link": true
    },
    "kernelspec": {
      "name": "python3",
      "display_name": "Python 3"
    },
    "language_info": {
      "name": "python"
    },
    "accelerator": "GPU",
    "gpuClass": "standard"
  },
  "cells": [
    {
      "cell_type": "markdown",
      "metadata": {
        "id": "view-in-github",
        "colab_type": "text"
      },
      "source": [
        "<a href=\"https://colab.research.google.com/github/Ryukijano/TSP_HOPFIELD/blob/main/HopfieldNetwork_TSP_W.ipynb\" target=\"_parent\"><img src=\"https://colab.research.google.com/assets/colab-badge.svg\" alt=\"Open In Colab\"/></a>"
      ]
    },
    {
      "cell_type": "code",
      "metadata": {
        "id": "yq9epW75aiKT"
      },
      "source": [
        "from random import randint\n",
        "from random import uniform"
      ],
      "execution_count": 1,
      "outputs": []
    },
    {
      "cell_type": "code",
      "metadata": {
        "id": "S8Rc4zjkbbp4"
      },
      "source": [
        "import numpy as np"
      ],
      "execution_count": 2,
      "outputs": []
    },
    {
      "cell_type": "code",
      "metadata": {
        "id": "Nr-DuuMobg4S"
      },
      "source": [
        "def kronecker_delta(x, y):\n",
        "    if x == y:\n",
        "        return 1\n",
        "    return 0"
      ],
      "execution_count": 3,
      "outputs": []
    },
    {
      "cell_type": "code",
      "metadata": {
        "id": "mX1LuhB0bjrj"
      },
      "source": [
        "class Hopfield:\n",
        "    def __init__(self, cities, d, alpha):\n",
        "        self.cities = cities\n",
        "        self.neurons = cities**2\n",
        "        self.d = d\n",
        "        self.alpha = alpha\n",
        "\n",
        "        self.w = np.zeros([self.neurons, self.neurons])\n",
        "\n",
        "        self.x_to_index = {}\n",
        "        self.index_to_x = {}\n",
        "\n",
        "        cnt = 0\n",
        "        for i in range(cities):\n",
        "            for j in range(cities):\n",
        "                self.index_to_x[cnt] = (i, j)\n",
        "                self.x_to_index[(i, j)] = cnt\n",
        "                cnt += 1"
      ],
      "execution_count": 4,
      "outputs": []
    },
    {
      "cell_type": "code",
      "metadata": {
        "id": "KvYQ4rTVcz4v"
      },
      "source": [
        "def train(self, A, B, C, D):\n",
        "        n = self.cities\n",
        "        for i in range(n):\n",
        "            for a in range(n):\n",
        "                for j in range(n):\n",
        "                    for b in range(n):\n",
        "                        wc = -C\n",
        "                        wa = -A*(1-kronecker_delta(a, b))*kronecker_delta(i, j)\n",
        "                        wb = -B*(1-kronecker_delta(i, j))*kronecker_delta(a, b)\n",
        "                        wd = -D*self.d[i][j]*(1-kronecker_delta(i, j))*(kronecker_delta(a-1, b) + kronecker_delta(a+1, b))\n",
        "\n",
        "                        self.w[self.x_to_index[(i, a)]][self.x_to_index[(j, b)]] = wa + wb + wc + wd"
      ],
      "execution_count": 5,
      "outputs": []
    },
    {
      "cell_type": "code",
      "metadata": {
        "id": "4L57v8Uhc9Z9"
      },
      "source": [
        "def predict(self, A, B, C, D, max_iterations):\n",
        "        self.train(A, B, C, D)\n",
        "\n",
        "        u = np.zeros([self.neurons, 1])\n",
        "        for i in range(self.cities):\n",
        "            for j in range(self.cities):\n",
        "                u[i][0] = uniform(0, 0.03)\n",
        "\n",
        "        prev_error = self.calc_error(u, A, B, C, D)\n",
        "        repeated = 0\n",
        "        max_repeat = 15\n",
        "        for iteration in range(max_iterations):\n",
        "            u = self.update(u, C)\n",
        "            error = self.calc_error(u, A, B, C, D)\n",
        "            if error == prev_error:\n",
        "                repeated += 1\n",
        "            else:\n",
        "                repeated = 0\n",
        "\n",
        "            if repeated > max_repeat:\n",
        "                break\n",
        "            prev_error = error\n",
        "        ret = np.zeros([self.cities, self.cities])\n",
        "        for i in range(self.cities):\n",
        "            for j in range(self.cities):\n",
        "                ret[i][j] = u[self.x_to_index[(i, j)]][0]\n",
        "\n",
        "        return ret\n"
      ],
      "execution_count": 6,
      "outputs": []
    },
    {
      "cell_type": "code",
      "metadata": {
        "id": "PXjGeyJLdE-1"
      },
      "source": [
        "def update(self, u, C):\n",
        "        # update is done asynchronously\n",
        "        # to make update synchronous replace C*(n+1) with a bias vector containing C*(n+sigma)\n",
        "        n = self.cities\n",
        "        for iteration in range(5*n**2):\n",
        "            i = randint(0, n-1)\n",
        "            x = randint(0, n-1)\n",
        "            u[self.x_to_index[(i, x)]][0] = self.f(np.dot(u.transpose(), self.w[:, self.x_to_index[(i, x)]]) + C*(n+1))\n",
        "        return u\n"
      ],
      "execution_count": 7,
      "outputs": []
    },
    {
      "cell_type": "code",
      "metadata": {
        "id": "q10aPerNdKyi"
      },
      "source": [
        "def f(self, x):\n",
        "        return 0.5*(1+np.tanh(self.alpha*x))"
      ],
      "execution_count": 8,
      "outputs": []
    },
    {
      "cell_type": "code",
      "metadata": {
        "id": "jKZ4GAvMeOBk"
      },
      "source": [
        "def calc_error(self, u, A, B, C, D):\n",
        "        tmpA = 0\n",
        "        n = self.cities\n",
        "        for i in range(n):\n",
        "            for a in range(n):\n",
        "                for b in range(n):\n",
        "                    if a != b:\n",
        "                        tmpA += u[self.x_to_index[(i, a)]][0] * u[self.x_to_index[(i, b)]][0]\n",
        "        tmpA *= (A/2.0)\n",
        "\n",
        "        tmpB = 0\n",
        "        for i in range(n):\n",
        "            for j in range(n):\n",
        "                for a in range(n):\n",
        "                    if i != j:\n",
        "                        tmpB += u[self.x_to_index[(i, a)]][0] * u[self.x_to_index[(j, a)]][0]\n",
        "        tmpB *= (B/2.0)\n",
        "\n",
        "        tmpC = 0\n",
        "        for i in range(n):\n",
        "            for a in range(n):\n",
        "                tmpC += u[self.x_to_index[(i, a)]][0]\n",
        "        tmpC = (tmpC - n)**2\n",
        "        tmpC *= (C/2.0)\n",
        "\n",
        "        tmpD = 0\n",
        "        for i in range(n):\n",
        "            for j in range(n):\n",
        "                for a in range(n):\n",
        "                    if 0 < a < n-1:\n",
        "                        tmpD += self.d[i][j]*u[self.x_to_index[(i, a)]][0]*(u[self.x_to_index[(j, a+1)]][0] + u[self.x_to_index[(j, a-1)]][0])\n",
        "                    elif a > 0:\n",
        "                        tmpD += self.d[i][j]*u[self.x_to_index[(i, a)]][0]*(u[self.x_to_index[(j, a-1)]][0] + u[self.x_to_index[(j, 0)]][0])\n",
        "                    elif a < n-1:\n",
        "                        tmpD += self.d[i][j]*u[self.x_to_index[(i, a)]][0]*(u[self.x_to_index[(j, a+1)]][0] + u[self.x_to_index[(j, n-1)]][0])\n",
        "        tmpD *= (D/2.0)\n",
        "\n",
        "        result= tmpA + tmpB + tmpC + tmpD\n",
        "        return result"
      ],
      "execution_count": 9,
      "outputs": []
    },
    {
      "cell_type": "code",
      "metadata": {
        "id": "MXMzHAAmeTcN"
      },
      "source": [
        ""
      ],
      "execution_count": null,
      "outputs": []
    },
    {
      "cell_type": "code",
      "source": [
        ""
      ],
      "metadata": {
        "id": "W288SOgS4LGm"
      },
      "execution_count": null,
      "outputs": []
    }
  ]
}